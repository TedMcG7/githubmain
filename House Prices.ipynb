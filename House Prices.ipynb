{
 "cells": [
  {
   "cell_type": "markdown",
   "id": "5bdaec2c",
   "metadata": {},
   "source": [
    "# House Prices"
   ]
  },
  {
   "cell_type": "markdown",
   "id": "a171551f",
   "metadata": {},
   "source": [
    "This notebook uses data from the Ames Housing dataset found in a Kaggle competition \n",
    "entitled House Prices - Advanced Regression Techniques.  The data set has 79 expanatory variables that \n",
    "may be used to predict the price of the home. Key challenges are feature selection and feature engineering.\n",
    "It is a regression problem with the opportunity to test advanced regression techniques.\n",
    "https://kaggle.com/competitions/house-prices-advanced-regression-techniques"
   ]
  },
  {
   "cell_type": "markdown",
   "id": "1a64150f",
   "metadata": {},
   "source": [
    "### Libraries"
   ]
  },
  {
   "cell_type": "code",
   "execution_count": 2,
   "id": "750cf656",
   "metadata": {},
   "outputs": [],
   "source": [
    "import numpy as np \n",
    "import pandas as pd \n",
    "import matplotlib.pyplot as plt\n",
    "import seaborn as sn\n",
    "%matplotlib inline"
   ]
  },
  {
   "cell_type": "markdown",
   "id": "713bc507",
   "metadata": {},
   "source": [
    "### Data Access"
   ]
  },
  {
   "cell_type": "markdown",
   "id": "59558d07",
   "metadata": {},
   "source": [
    "Kaggle Datasets (missing target for test data)"
   ]
  },
  {
   "cell_type": "code",
   "execution_count": 3,
   "id": "e734b8cc",
   "metadata": {},
   "outputs": [],
   "source": [
    "train_data = pd.read_csv(\"https://raw.githubusercontent.com/TedMcG7/githubmain/main/datasets/housing-train.csv\")\n",
    "test_data = pd.read_csv(\"https://raw.githubusercontent.com/TedMcG7/githubmain/main/datasets/housing-test.csv\")"
   ]
  },
  {
   "cell_type": "code",
   "execution_count": 4,
   "id": "59ac5acc",
   "metadata": {
    "scrolled": true
   },
   "outputs": [],
   "source": [
    "X_train = train_data.drop('SalePrice', axis=1)\n",
    "y_train = train_data['SalePrice']"
   ]
  },
  {
   "cell_type": "markdown",
   "id": "2c926259",
   "metadata": {},
   "source": [
    "### Data Exploration"
   ]
  },
  {
   "cell_type": "markdown",
   "id": "d14278b6",
   "metadata": {},
   "source": [
    "Data Cleaning"
   ]
  },
  {
   "cell_type": "code",
   "execution_count": 5,
   "id": "3cb9185f",
   "metadata": {},
   "outputs": [],
   "source": [
    "df = train_data"
   ]
  },
  {
   "cell_type": "code",
   "execution_count": 6,
   "id": "1be6f310",
   "metadata": {},
   "outputs": [
    {
     "name": "stdout",
     "output_type": "stream",
     "text": [
      "<class 'pandas.core.frame.DataFrame'>\n",
      "RangeIndex: 1460 entries, 0 to 1459\n",
      "Data columns (total 81 columns):\n",
      " #   Column         Non-Null Count  Dtype  \n",
      "---  ------         --------------  -----  \n",
      " 0   Id             1460 non-null   int64  \n",
      " 1   MSSubClass     1460 non-null   int64  \n",
      " 2   MSZoning       1460 non-null   object \n",
      " 3   LotFrontage    1201 non-null   float64\n",
      " 4   LotArea        1460 non-null   int64  \n",
      " 5   Street         1460 non-null   object \n",
      " 6   Alley          91 non-null     object \n",
      " 7   LotShape       1460 non-null   object \n",
      " 8   LandContour    1460 non-null   object \n",
      " 9   Utilities      1460 non-null   object \n",
      " 10  LotConfig      1460 non-null   object \n",
      " 11  LandSlope      1460 non-null   object \n",
      " 12  Neighborhood   1460 non-null   object \n",
      " 13  Condition1     1460 non-null   object \n",
      " 14  Condition2     1460 non-null   object \n",
      " 15  BldgType       1460 non-null   object \n",
      " 16  HouseStyle     1460 non-null   object \n",
      " 17  OverallQual    1460 non-null   int64  \n",
      " 18  OverallCond    1460 non-null   int64  \n",
      " 19  YearBuilt      1460 non-null   int64  \n",
      " 20  YearRemodAdd   1460 non-null   int64  \n",
      " 21  RoofStyle      1460 non-null   object \n",
      " 22  RoofMatl       1460 non-null   object \n",
      " 23  Exterior1st    1460 non-null   object \n",
      " 24  Exterior2nd    1460 non-null   object \n",
      " 25  MasVnrType     1452 non-null   object \n",
      " 26  MasVnrArea     1452 non-null   float64\n",
      " 27  ExterQual      1460 non-null   object \n",
      " 28  ExterCond      1460 non-null   object \n",
      " 29  Foundation     1460 non-null   object \n",
      " 30  BsmtQual       1423 non-null   object \n",
      " 31  BsmtCond       1423 non-null   object \n",
      " 32  BsmtExposure   1422 non-null   object \n",
      " 33  BsmtFinType1   1423 non-null   object \n",
      " 34  BsmtFinSF1     1460 non-null   int64  \n",
      " 35  BsmtFinType2   1422 non-null   object \n",
      " 36  BsmtFinSF2     1460 non-null   int64  \n",
      " 37  BsmtUnfSF      1460 non-null   int64  \n",
      " 38  TotalBsmtSF    1460 non-null   int64  \n",
      " 39  Heating        1460 non-null   object \n",
      " 40  HeatingQC      1460 non-null   object \n",
      " 41  CentralAir     1460 non-null   object \n",
      " 42  Electrical     1459 non-null   object \n",
      " 43  1stFlrSF       1460 non-null   int64  \n",
      " 44  2ndFlrSF       1460 non-null   int64  \n",
      " 45  LowQualFinSF   1460 non-null   int64  \n",
      " 46  GrLivArea      1460 non-null   int64  \n",
      " 47  BsmtFullBath   1460 non-null   int64  \n",
      " 48  BsmtHalfBath   1460 non-null   int64  \n",
      " 49  FullBath       1460 non-null   int64  \n",
      " 50  HalfBath       1460 non-null   int64  \n",
      " 51  BedroomAbvGr   1460 non-null   int64  \n",
      " 52  KitchenAbvGr   1460 non-null   int64  \n",
      " 53  KitchenQual    1460 non-null   object \n",
      " 54  TotRmsAbvGrd   1460 non-null   int64  \n",
      " 55  Functional     1460 non-null   object \n",
      " 56  Fireplaces     1460 non-null   int64  \n",
      " 57  FireplaceQu    770 non-null    object \n",
      " 58  GarageType     1379 non-null   object \n",
      " 59  GarageYrBlt    1379 non-null   float64\n",
      " 60  GarageFinish   1379 non-null   object \n",
      " 61  GarageCars     1460 non-null   int64  \n",
      " 62  GarageArea     1460 non-null   int64  \n",
      " 63  GarageQual     1379 non-null   object \n",
      " 64  GarageCond     1379 non-null   object \n",
      " 65  PavedDrive     1460 non-null   object \n",
      " 66  WoodDeckSF     1460 non-null   int64  \n",
      " 67  OpenPorchSF    1460 non-null   int64  \n",
      " 68  EnclosedPorch  1460 non-null   int64  \n",
      " 69  3SsnPorch      1460 non-null   int64  \n",
      " 70  ScreenPorch    1460 non-null   int64  \n",
      " 71  PoolArea       1460 non-null   int64  \n",
      " 72  PoolQC         7 non-null      object \n",
      " 73  Fence          281 non-null    object \n",
      " 74  MiscFeature    54 non-null     object \n",
      " 75  MiscVal        1460 non-null   int64  \n",
      " 76  MoSold         1460 non-null   int64  \n",
      " 77  YrSold         1460 non-null   int64  \n",
      " 78  SaleType       1460 non-null   object \n",
      " 79  SaleCondition  1460 non-null   object \n",
      " 80  SalePrice      1460 non-null   int64  \n",
      "dtypes: float64(3), int64(35), object(43)\n",
      "memory usage: 924.0+ KB\n"
     ]
    }
   ],
   "source": [
    "df.info()"
   ]
  },
  {
   "cell_type": "code",
   "execution_count": 263,
   "id": "cc39aa6d",
   "metadata": {},
   "outputs": [],
   "source": [
    "def prepare(df):\n",
    "    clear = ['Id', 'Alley', 'PoolQC', 'Fence', 'MiscFeature', 'FireplaceQu', 'LotFrontage']\n",
    "    df = df.drop(clear, axis=1)\n",
    "    garage_columns = ['GarageType','GarageFinish','GarageQual','GarageCond'] \n",
    "    df[garage_columns] = df[garage_columns].fillna('NA')\n",
    "    df['GarageYrBlt'] = df['GarageYrBlt'].fillna(df['YearBuilt'])\n",
    "    df['GarageYrBlt'] = df['GarageYrBlt'].astype('int64')\n",
    "    basement_columns =  ['BsmtExposure','BsmtQual','BsmtCond','BsmtFinType1','BsmtFinType2']\n",
    "    df[basement_columns] = df[basement_columns].fillna('NA')\n",
    "    df['Electrical'] = df['Electrical'].fillna('SBrkr')\n",
    "    df['MasVnrType'] = df['MasVnrType'].fillna('None')\n",
    "    df['MasVnrArea'] = df['MasVnrArea'].fillna(0)\n",
    "    df['MedNhbdArea'] = df.groupby('Neighborhood')['GrLivArea'].transform('median').astype('int64')\n",
    "    qual = ['ExterQual', 'ExterCond', 'BsmtQual', 'BsmtCond', 'HeatingQC', 'KitchenQual', 'GarageQual', 'GarageCond']\n",
    "    df[qual] = df[qual].replace('Ex', 5).replace('Gd', 4).replace('TA', 3).replace('Fa', 2).replace('Po', 1).replace('NA', 0)\n",
    "    bsmt = ['BsmtFinType1','BsmtFinType2']\n",
    "    df[bsmt] = df[bsmt].replace('GLQ', 6).replace('ALQ', 5).replace('BLQ', 4).replace('Rec', 3).replace('LwQ', 2).replace('Unf', 1).replace('NA', 0)\n",
    "    return df"
   ]
  },
  {
   "cell_type": "code",
   "execution_count": 264,
   "id": "b45e2c7e",
   "metadata": {},
   "outputs": [],
   "source": [
    "df = prepare(df)"
   ]
  },
  {
   "cell_type": "code",
   "execution_count": null,
   "id": "96548570",
   "metadata": {},
   "outputs": [],
   "source": [
    "# data.hist(bins=50, figsize=(20,15))\n",
    "# plt.show()"
   ]
  },
  {
   "cell_type": "markdown",
   "id": "e343fb05",
   "metadata": {},
   "source": [
    "Mutual Information (for feature selection)"
   ]
  },
  {
   "cell_type": "code",
   "execution_count": 265,
   "id": "591f32d6",
   "metadata": {},
   "outputs": [],
   "source": [
    "from sklearn.feature_selection import mutual_info_regression"
   ]
  },
  {
   "cell_type": "code",
   "execution_count": 266,
   "id": "47e4a79f",
   "metadata": {},
   "outputs": [],
   "source": [
    "X = df.drop('SalePrice', axis=1)\n",
    "y = df.SalePrice"
   ]
  },
  {
   "cell_type": "code",
   "execution_count": 267,
   "id": "17a8926d",
   "metadata": {},
   "outputs": [],
   "source": [
    "def encode_select(X): \n",
    "    for colname in X.select_dtypes('object'):\n",
    "        X[colname], _ = X[colname].factorize()\n",
    "    mi_scores = mutual_info_regression(X, y)  \n",
    "    mi_scores = pd.Series(mi_scores, index=X.columns)\n",
    "    mi_scores = mi_scores.sort_values(ascending=False)\n",
    "    keep = mi_scores[0:50].index.tolist() \n",
    "    X = X[keep]\n",
    "    X = np.ascontiguousarray(X)\n",
    "    return X"
   ]
  },
  {
   "cell_type": "code",
   "execution_count": 268,
   "id": "f7c1d19d",
   "metadata": {},
   "outputs": [],
   "source": [
    "X = encode_select(X)"
   ]
  },
  {
   "cell_type": "code",
   "execution_count": null,
   "id": "6713ac8a",
   "metadata": {},
   "outputs": [],
   "source": [
    "# corr = df.corr()['SalePrice'].drop('SalePrice')"
   ]
  },
  {
   "cell_type": "code",
   "execution_count": null,
   "id": "ca8d2c0f",
   "metadata": {},
   "outputs": [],
   "source": [
    "# df_measures = pd.DataFrame({'mi_score': mi_scores, 'corr': corr})"
   ]
  },
  {
   "cell_type": "code",
   "execution_count": null,
   "id": "4e9efd32",
   "metadata": {},
   "outputs": [],
   "source": [
    "# df_sorted = df_measures.sort_values('mi_score', ascending=False).reset_index()"
   ]
  },
  {
   "cell_type": "code",
   "execution_count": null,
   "id": "9e86c7a8",
   "metadata": {},
   "outputs": [],
   "source": [
    "# df_selected = df_sorted.loc[0:50,:]"
   ]
  },
  {
   "cell_type": "code",
   "execution_count": null,
   "id": "60d5e50d",
   "metadata": {},
   "outputs": [],
   "source": [
    "# df_selected"
   ]
  },
  {
   "cell_type": "code",
   "execution_count": null,
   "id": "5335b106",
   "metadata": {
    "scrolled": true
   },
   "outputs": [],
   "source": [
    "# df = df[df_selected['index']]"
   ]
  },
  {
   "cell_type": "markdown",
   "id": "83baa087",
   "metadata": {},
   "source": [
    "Data Visualization - Seaborn"
   ]
  },
  {
   "cell_type": "code",
   "execution_count": null,
   "id": "0af150a9",
   "metadata": {
    "scrolled": true
   },
   "outputs": [],
   "source": [
    "plt.figure(figsize=(10,10))\n",
    "sn.heatmap(df.corr())"
   ]
  },
  {
   "cell_type": "markdown",
   "id": "0347e219",
   "metadata": {},
   "source": [
    "Data Visualization - Matplotlib"
   ]
  },
  {
   "cell_type": "code",
   "execution_count": null,
   "id": "e4ecb070",
   "metadata": {
    "scrolled": true
   },
   "outputs": [],
   "source": [
    "df.hist(bins=50, figsize=(20,15))\n",
    "plt.show()"
   ]
  },
  {
   "cell_type": "markdown",
   "id": "c0097e25",
   "metadata": {},
   "source": [
    "### Data Preparation"
   ]
  },
  {
   "cell_type": "code",
   "execution_count": 269,
   "id": "b172f89f",
   "metadata": {},
   "outputs": [],
   "source": [
    "X_train = df.drop('SalePrice', axis=1)\n",
    "y_train = df['SalePrice']"
   ]
  },
  {
   "cell_type": "markdown",
   "id": "f0303780",
   "metadata": {},
   "source": [
    "Pipelines"
   ]
  },
  {
   "cell_type": "code",
   "execution_count": 270,
   "id": "9fd3781a",
   "metadata": {},
   "outputs": [],
   "source": [
    "# Transformation pipeline\n",
    "from sklearn.pipeline import Pipeline\n",
    "from sklearn.preprocessing import StandardScaler\n",
    "from sklearn.impute import SimpleImputer\n",
    "\n",
    "num_pipeline = Pipeline([\n",
    "        ('imputer', SimpleImputer(strategy=\"median\")),\n",
    "        ('std_scaler', StandardScaler()),\n",
    "    ])"
   ]
  },
  {
   "cell_type": "code",
   "execution_count": null,
   "id": "31139551",
   "metadata": {},
   "outputs": [],
   "source": [
    "# num_attribs = []\n",
    "# for colname in X_train.select_dtypes('int64','float64'):\n",
    "#    num_attribs.append(colname)"
   ]
  },
  {
   "cell_type": "code",
   "execution_count": null,
   "id": "9f103ec4",
   "metadata": {},
   "outputs": [],
   "source": [
    "# num_attribs"
   ]
  },
  {
   "cell_type": "code",
   "execution_count": null,
   "id": "59b4bd4a",
   "metadata": {},
   "outputs": [],
   "source": [
    "# cat_attribs = []\n",
    "# for colname in X_train.select_dtypes('object'):\n",
    "#    cat_attribs.append(colname)"
   ]
  },
  {
   "cell_type": "code",
   "execution_count": null,
   "id": "119fcfc3",
   "metadata": {},
   "outputs": [],
   "source": [
    "# cat_attribs"
   ]
  },
  {
   "cell_type": "code",
   "execution_count": null,
   "id": "888632cd",
   "metadata": {},
   "outputs": [],
   "source": [
    "# Column transformer\n",
    "from sklearn.compose import ColumnTransformer\n",
    "from sklearn.preprocessing import OneHotEncoder\n",
    "\n",
    "full_pipeline = ColumnTransformer([\n",
    "        (\"num\", num_pipeline, num_attribs),\n",
    "        (\"cat\", OneHotEncoder(handle_unknown='error'), cat_attribs),  \n",
    "    ])"
   ]
  },
  {
   "cell_type": "code",
   "execution_count": 271,
   "id": "87b1657e",
   "metadata": {},
   "outputs": [],
   "source": [
    "X_train = num_pipeline.fit_transform(X)"
   ]
  },
  {
   "cell_type": "code",
   "execution_count": null,
   "id": "5ff144e0",
   "metadata": {},
   "outputs": [],
   "source": [
    "# X = np.ascontiguousarray(X)"
   ]
  },
  {
   "cell_type": "markdown",
   "id": "656284d9",
   "metadata": {},
   "source": [
    "### Model Selection"
   ]
  },
  {
   "cell_type": "code",
   "execution_count": 272,
   "id": "0973d2b2",
   "metadata": {},
   "outputs": [],
   "source": [
    "from sklearn.linear_model import LinearRegression\n",
    "from sklearn.preprocessing import PolynomialFeatures\n",
    "from sklearn.linear_model import Ridge\n",
    "from sklearn.linear_model import Lasso\n",
    "from sklearn.linear_model import ElasticNet\n",
    "from sklearn.linear_model import SGDRegressor\n",
    "from sklearn.svm import LinearSVC\n",
    "from sklearn.svm import SVR\n",
    "from sklearn.tree import DecisionTreeRegressor\n",
    "from sklearn.ensemble import VotingRegressor\n",
    "from sklearn.ensemble import RandomForestRegressor\n",
    "from sklearn.ensemble import ExtraTreesRegressor\n",
    "from sklearn.ensemble import AdaBoostRegressor\n",
    "from sklearn.ensemble import GradientBoostingRegressor\n",
    "from xgboost import XGBRegressor\n",
    "from sklearn.ensemble import VotingRegressor"
   ]
  },
  {
   "cell_type": "code",
   "execution_count": 273,
   "id": "700de86a",
   "metadata": {},
   "outputs": [],
   "source": [
    "from sklearn.model_selection import cross_val_score"
   ]
  },
  {
   "cell_type": "code",
   "execution_count": 274,
   "id": "1a8fda0e",
   "metadata": {},
   "outputs": [],
   "source": [
    "# Testing various classifiers using defaults\n",
    "from sklearn.model_selection import cross_val_score\n",
    "regressors = []\n",
    "regressors.append(LinearRegression())\n",
    "regressors.append(SVR())\n",
    "regressors.append(DecisionTreeRegressor())\n",
    "regressors.append(RandomForestRegressor())\n",
    "regressors.append(ExtraTreesRegressor())\n",
    "regressors.append(GradientBoostingRegressor())\n",
    "regressors.append(XGBRegressor())\n",
    "\n",
    "\n",
    "cv_results = []\n",
    "for regressor in regressors:\n",
    "    cv_results.append(cross_val_score(regressor, X_train, y_train, scoring='neg_mean_squared_log_error', cv=5, n_jobs=-1))\n",
    "\n",
    "cv_means = []\n",
    "cv_std = []\n",
    "for cv_result in cv_results:\n",
    "    cv_means.append(cv_result.mean())\n",
    "    cv_std.append(cv_result.std())\n",
    "\n",
    "cv_res = pd.DataFrame({'Algorithm':['LinearRegression','SVR','DecisionTree','RandomForest','ExtraTrees',\\\n",
    "                                    'GradientBoosting', 'XGB'],\\\n",
    "                       'Mean':cv_means,\"Std\": cv_std})\n"
   ]
  },
  {
   "cell_type": "code",
   "execution_count": 275,
   "id": "8fc82c69",
   "metadata": {
    "scrolled": false
   },
   "outputs": [
    {
     "data": {
      "text/html": [
       "<div>\n",
       "<style scoped>\n",
       "    .dataframe tbody tr th:only-of-type {\n",
       "        vertical-align: middle;\n",
       "    }\n",
       "\n",
       "    .dataframe tbody tr th {\n",
       "        vertical-align: top;\n",
       "    }\n",
       "\n",
       "    .dataframe thead th {\n",
       "        text-align: right;\n",
       "    }\n",
       "</style>\n",
       "<table border=\"1\" class=\"dataframe\">\n",
       "  <thead>\n",
       "    <tr style=\"text-align: right;\">\n",
       "      <th></th>\n",
       "      <th>Algorithm</th>\n",
       "      <th>Mean</th>\n",
       "      <th>Std</th>\n",
       "    </tr>\n",
       "  </thead>\n",
       "  <tbody>\n",
       "    <tr>\n",
       "      <th>5</th>\n",
       "      <td>GradientBoosting</td>\n",
       "      <td>-0.017136</td>\n",
       "      <td>0.003398</td>\n",
       "    </tr>\n",
       "    <tr>\n",
       "      <th>6</th>\n",
       "      <td>XGB</td>\n",
       "      <td>-0.018889</td>\n",
       "      <td>0.001526</td>\n",
       "    </tr>\n",
       "    <tr>\n",
       "      <th>4</th>\n",
       "      <td>ExtraTrees</td>\n",
       "      <td>-0.018951</td>\n",
       "      <td>0.003052</td>\n",
       "    </tr>\n",
       "    <tr>\n",
       "      <th>3</th>\n",
       "      <td>RandomForest</td>\n",
       "      <td>-0.020805</td>\n",
       "      <td>0.002832</td>\n",
       "    </tr>\n",
       "    <tr>\n",
       "      <th>2</th>\n",
       "      <td>DecisionTree</td>\n",
       "      <td>-0.042479</td>\n",
       "      <td>0.004944</td>\n",
       "    </tr>\n",
       "    <tr>\n",
       "      <th>1</th>\n",
       "      <td>SVR</td>\n",
       "      <td>-0.159818</td>\n",
       "      <td>0.013224</td>\n",
       "    </tr>\n",
       "    <tr>\n",
       "      <th>0</th>\n",
       "      <td>LinearRegression</td>\n",
       "      <td>NaN</td>\n",
       "      <td>NaN</td>\n",
       "    </tr>\n",
       "  </tbody>\n",
       "</table>\n",
       "</div>"
      ],
      "text/plain": [
       "          Algorithm      Mean       Std\n",
       "5  GradientBoosting -0.017136  0.003398\n",
       "6               XGB -0.018889  0.001526\n",
       "4        ExtraTrees -0.018951  0.003052\n",
       "3      RandomForest -0.020805  0.002832\n",
       "2      DecisionTree -0.042479  0.004944\n",
       "1               SVR -0.159818  0.013224\n",
       "0  LinearRegression       NaN       NaN"
      ]
     },
     "execution_count": 275,
     "metadata": {},
     "output_type": "execute_result"
    }
   ],
   "source": [
    "cv_res.head(20).sort_values('Mean', ascending=False)"
   ]
  },
  {
   "cell_type": "markdown",
   "id": "c8dda70c",
   "metadata": {},
   "source": [
    "### Model Tuning"
   ]
  },
  {
   "cell_type": "code",
   "execution_count": 276,
   "id": "54947801",
   "metadata": {},
   "outputs": [],
   "source": [
    "from sklearn.model_selection import GridSearchCV\n",
    "from sklearn.model_selection import RandomizedSearchCV"
   ]
  },
  {
   "cell_type": "code",
   "execution_count": 277,
   "id": "1bb9df06",
   "metadata": {},
   "outputs": [],
   "source": [
    "from sklearn.model_selection import learning_curve\n",
    "\n",
    "def plot_learning_curve(estimator, title, X, y, ylim=None, cv=None,\n",
    "                        n_jobs=-1, train_sizes=np.linspace(.1, 1.0, 5)):\n",
    "    \"\"\"Generate a simple plot of the test and training learning curve\"\"\"\n",
    "    plt.figure()\n",
    "    plt.title(title)\n",
    "    if ylim is not None:\n",
    "        plt.ylim(*ylim)\n",
    "    plt.xlabel(\"Training examples\")\n",
    "    plt.ylabel(\"Score\")\n",
    "    train_sizes, train_scores, test_scores = learning_curve(\n",
    "        estimator, X, y, cv=cv, scoring = 'neg_mean_squared_log_error', n_jobs=n_jobs, train_sizes=train_sizes)\n",
    "    train_scores_mean = np.mean(train_scores, axis=1)\n",
    "    train_scores_std = np.std(train_scores, axis=1)\n",
    "    test_scores_mean = np.mean(test_scores, axis=1)\n",
    "    test_scores_std = np.std(test_scores, axis=1)\n",
    "    plt.grid()\n",
    "\n",
    "    plt.fill_between(train_sizes, train_scores_mean - train_scores_std,\n",
    "                     train_scores_mean + train_scores_std, alpha=0.1,\n",
    "                     color=\"r\")\n",
    "    plt.fill_between(train_sizes, test_scores_mean - test_scores_std,\n",
    "                     test_scores_mean + test_scores_std, alpha=0.1, color=\"g\")\n",
    "    plt.plot(train_sizes, train_scores_mean, 'o-', color=\"r\",\n",
    "             label=\"Training score\")\n",
    "    plt.plot(train_sizes, test_scores_mean, 'o-', color=\"g\",\n",
    "             label=\"Cross-validation score\")\n",
    "\n",
    "    plt.legend(loc=\"best\")\n",
    "    return plt"
   ]
  },
  {
   "cell_type": "markdown",
   "id": "fa2cc26b",
   "metadata": {},
   "source": [
    "Gradient Boosting"
   ]
  },
  {
   "cell_type": "code",
   "execution_count": 278,
   "id": "e0c6a8a5",
   "metadata": {},
   "outputs": [
    {
     "data": {
      "text/plain": [
       "-0.01726232910450437"
      ]
     },
     "execution_count": 278,
     "metadata": {},
     "output_type": "execute_result"
    }
   ],
   "source": [
    "gb_reg = GradientBoostingRegressor()\n",
    "score = cross_val_score(gb_reg, X_train, y_train, cv=5, scoring='neg_mean_squared_log_error')\n",
    "score.mean()"
   ]
  },
  {
   "cell_type": "code",
   "execution_count": 279,
   "id": "8fcc6abb",
   "metadata": {},
   "outputs": [
    {
     "name": "stderr",
     "output_type": "stream",
     "text": [
      "C:\\Users\\tedmc\\anaconda3\\lib\\site-packages\\sklearn\\model_selection\\_validation.py:683: UserWarning: Scoring failed. The score on this train-test partition for these parameters will be set to nan. Details: \n",
      "Traceback (most recent call last):\n",
      "  File \"C:\\Users\\tedmc\\anaconda3\\lib\\site-packages\\sklearn\\model_selection\\_validation.py\", line 674, in _score\n",
      "    scores = scorer(estimator, X_test, y_test)\n",
      "  File \"C:\\Users\\tedmc\\anaconda3\\lib\\site-packages\\sklearn\\metrics\\_scorer.py\", line 199, in __call__\n",
      "    return self._score(partial(_cached_call, None), estimator, X, y_true,\n",
      "  File \"C:\\Users\\tedmc\\anaconda3\\lib\\site-packages\\sklearn\\metrics\\_scorer.py\", line 242, in _score\n",
      "    return self._sign * self._score_func(y_true, y_pred,\n",
      "  File \"C:\\Users\\tedmc\\anaconda3\\lib\\site-packages\\sklearn\\utils\\validation.py\", line 63, in inner_f\n",
      "    return f(*args, **kwargs)\n",
      "  File \"C:\\Users\\tedmc\\anaconda3\\lib\\site-packages\\sklearn\\metrics\\_regression.py\", line 413, in mean_squared_log_error\n",
      "    raise ValueError(\"Mean Squared Logarithmic Error cannot be used when \"\n",
      "ValueError: Mean Squared Logarithmic Error cannot be used when targets contain negative values.\n",
      "\n",
      "  warnings.warn(\n",
      "C:\\Users\\tedmc\\anaconda3\\lib\\site-packages\\sklearn\\model_selection\\_validation.py:683: UserWarning: Scoring failed. The score on this train-test partition for these parameters will be set to nan. Details: \n",
      "Traceback (most recent call last):\n",
      "  File \"C:\\Users\\tedmc\\anaconda3\\lib\\site-packages\\sklearn\\model_selection\\_validation.py\", line 674, in _score\n",
      "    scores = scorer(estimator, X_test, y_test)\n",
      "  File \"C:\\Users\\tedmc\\anaconda3\\lib\\site-packages\\sklearn\\metrics\\_scorer.py\", line 199, in __call__\n",
      "    return self._score(partial(_cached_call, None), estimator, X, y_true,\n",
      "  File \"C:\\Users\\tedmc\\anaconda3\\lib\\site-packages\\sklearn\\metrics\\_scorer.py\", line 242, in _score\n",
      "    return self._sign * self._score_func(y_true, y_pred,\n",
      "  File \"C:\\Users\\tedmc\\anaconda3\\lib\\site-packages\\sklearn\\utils\\validation.py\", line 63, in inner_f\n",
      "    return f(*args, **kwargs)\n",
      "  File \"C:\\Users\\tedmc\\anaconda3\\lib\\site-packages\\sklearn\\metrics\\_regression.py\", line 413, in mean_squared_log_error\n",
      "    raise ValueError(\"Mean Squared Logarithmic Error cannot be used when \"\n",
      "ValueError: Mean Squared Logarithmic Error cannot be used when targets contain negative values.\n",
      "\n",
      "  warnings.warn(\n",
      "C:\\Users\\tedmc\\anaconda3\\lib\\site-packages\\sklearn\\model_selection\\_validation.py:683: UserWarning: Scoring failed. The score on this train-test partition for these parameters will be set to nan. Details: \n",
      "Traceback (most recent call last):\n",
      "  File \"C:\\Users\\tedmc\\anaconda3\\lib\\site-packages\\sklearn\\model_selection\\_validation.py\", line 674, in _score\n",
      "    scores = scorer(estimator, X_test, y_test)\n",
      "  File \"C:\\Users\\tedmc\\anaconda3\\lib\\site-packages\\sklearn\\metrics\\_scorer.py\", line 199, in __call__\n",
      "    return self._score(partial(_cached_call, None), estimator, X, y_true,\n",
      "  File \"C:\\Users\\tedmc\\anaconda3\\lib\\site-packages\\sklearn\\metrics\\_scorer.py\", line 242, in _score\n",
      "    return self._sign * self._score_func(y_true, y_pred,\n",
      "  File \"C:\\Users\\tedmc\\anaconda3\\lib\\site-packages\\sklearn\\utils\\validation.py\", line 63, in inner_f\n",
      "    return f(*args, **kwargs)\n",
      "  File \"C:\\Users\\tedmc\\anaconda3\\lib\\site-packages\\sklearn\\metrics\\_regression.py\", line 413, in mean_squared_log_error\n",
      "    raise ValueError(\"Mean Squared Logarithmic Error cannot be used when \"\n",
      "ValueError: Mean Squared Logarithmic Error cannot be used when targets contain negative values.\n",
      "\n",
      "  warnings.warn(\n",
      "C:\\Users\\tedmc\\anaconda3\\lib\\site-packages\\sklearn\\model_selection\\_validation.py:683: UserWarning: Scoring failed. The score on this train-test partition for these parameters will be set to nan. Details: \n",
      "Traceback (most recent call last):\n",
      "  File \"C:\\Users\\tedmc\\anaconda3\\lib\\site-packages\\sklearn\\model_selection\\_validation.py\", line 674, in _score\n",
      "    scores = scorer(estimator, X_test, y_test)\n",
      "  File \"C:\\Users\\tedmc\\anaconda3\\lib\\site-packages\\sklearn\\metrics\\_scorer.py\", line 199, in __call__\n",
      "    return self._score(partial(_cached_call, None), estimator, X, y_true,\n",
      "  File \"C:\\Users\\tedmc\\anaconda3\\lib\\site-packages\\sklearn\\metrics\\_scorer.py\", line 242, in _score\n",
      "    return self._sign * self._score_func(y_true, y_pred,\n",
      "  File \"C:\\Users\\tedmc\\anaconda3\\lib\\site-packages\\sklearn\\utils\\validation.py\", line 63, in inner_f\n",
      "    return f(*args, **kwargs)\n",
      "  File \"C:\\Users\\tedmc\\anaconda3\\lib\\site-packages\\sklearn\\metrics\\_regression.py\", line 413, in mean_squared_log_error\n",
      "    raise ValueError(\"Mean Squared Logarithmic Error cannot be used when \"\n",
      "ValueError: Mean Squared Logarithmic Error cannot be used when targets contain negative values.\n",
      "\n",
      "  warnings.warn(\n",
      "C:\\Users\\tedmc\\anaconda3\\lib\\site-packages\\sklearn\\model_selection\\_validation.py:683: UserWarning: Scoring failed. The score on this train-test partition for these parameters will be set to nan. Details: \n",
      "Traceback (most recent call last):\n",
      "  File \"C:\\Users\\tedmc\\anaconda3\\lib\\site-packages\\sklearn\\model_selection\\_validation.py\", line 674, in _score\n",
      "    scores = scorer(estimator, X_test, y_test)\n",
      "  File \"C:\\Users\\tedmc\\anaconda3\\lib\\site-packages\\sklearn\\metrics\\_scorer.py\", line 199, in __call__\n",
      "    return self._score(partial(_cached_call, None), estimator, X, y_true,\n",
      "  File \"C:\\Users\\tedmc\\anaconda3\\lib\\site-packages\\sklearn\\metrics\\_scorer.py\", line 242, in _score\n",
      "    return self._sign * self._score_func(y_true, y_pred,\n",
      "  File \"C:\\Users\\tedmc\\anaconda3\\lib\\site-packages\\sklearn\\utils\\validation.py\", line 63, in inner_f\n",
      "    return f(*args, **kwargs)\n",
      "  File \"C:\\Users\\tedmc\\anaconda3\\lib\\site-packages\\sklearn\\metrics\\_regression.py\", line 413, in mean_squared_log_error\n",
      "    raise ValueError(\"Mean Squared Logarithmic Error cannot be used when \"\n",
      "ValueError: Mean Squared Logarithmic Error cannot be used when targets contain negative values.\n",
      "\n",
      "  warnings.warn(\n",
      "C:\\Users\\tedmc\\anaconda3\\lib\\site-packages\\sklearn\\model_selection\\_validation.py:683: UserWarning: Scoring failed. The score on this train-test partition for these parameters will be set to nan. Details: \n",
      "Traceback (most recent call last):\n",
      "  File \"C:\\Users\\tedmc\\anaconda3\\lib\\site-packages\\sklearn\\model_selection\\_validation.py\", line 674, in _score\n",
      "    scores = scorer(estimator, X_test, y_test)\n",
      "  File \"C:\\Users\\tedmc\\anaconda3\\lib\\site-packages\\sklearn\\metrics\\_scorer.py\", line 199, in __call__\n",
      "    return self._score(partial(_cached_call, None), estimator, X, y_true,\n",
      "  File \"C:\\Users\\tedmc\\anaconda3\\lib\\site-packages\\sklearn\\metrics\\_scorer.py\", line 242, in _score\n",
      "    return self._sign * self._score_func(y_true, y_pred,\n",
      "  File \"C:\\Users\\tedmc\\anaconda3\\lib\\site-packages\\sklearn\\utils\\validation.py\", line 63, in inner_f\n",
      "    return f(*args, **kwargs)\n",
      "  File \"C:\\Users\\tedmc\\anaconda3\\lib\\site-packages\\sklearn\\metrics\\_regression.py\", line 413, in mean_squared_log_error\n",
      "    raise ValueError(\"Mean Squared Logarithmic Error cannot be used when \"\n",
      "ValueError: Mean Squared Logarithmic Error cannot be used when targets contain negative values.\n",
      "\n",
      "  warnings.warn(\n",
      "C:\\Users\\tedmc\\anaconda3\\lib\\site-packages\\sklearn\\model_selection\\_validation.py:683: UserWarning: Scoring failed. The score on this train-test partition for these parameters will be set to nan. Details: \n",
      "Traceback (most recent call last):\n",
      "  File \"C:\\Users\\tedmc\\anaconda3\\lib\\site-packages\\sklearn\\model_selection\\_validation.py\", line 674, in _score\n",
      "    scores = scorer(estimator, X_test, y_test)\n",
      "  File \"C:\\Users\\tedmc\\anaconda3\\lib\\site-packages\\sklearn\\metrics\\_scorer.py\", line 199, in __call__\n",
      "    return self._score(partial(_cached_call, None), estimator, X, y_true,\n",
      "  File \"C:\\Users\\tedmc\\anaconda3\\lib\\site-packages\\sklearn\\metrics\\_scorer.py\", line 242, in _score\n",
      "    return self._sign * self._score_func(y_true, y_pred,\n",
      "  File \"C:\\Users\\tedmc\\anaconda3\\lib\\site-packages\\sklearn\\utils\\validation.py\", line 63, in inner_f\n",
      "    return f(*args, **kwargs)\n",
      "  File \"C:\\Users\\tedmc\\anaconda3\\lib\\site-packages\\sklearn\\metrics\\_regression.py\", line 413, in mean_squared_log_error\n",
      "    raise ValueError(\"Mean Squared Logarithmic Error cannot be used when \"\n",
      "ValueError: Mean Squared Logarithmic Error cannot be used when targets contain negative values.\n",
      "\n",
      "  warnings.warn(\n"
     ]
    },
    {
     "name": "stderr",
     "output_type": "stream",
     "text": [
      "C:\\Users\\tedmc\\anaconda3\\lib\\site-packages\\sklearn\\model_selection\\_validation.py:683: UserWarning: Scoring failed. The score on this train-test partition for these parameters will be set to nan. Details: \n",
      "Traceback (most recent call last):\n",
      "  File \"C:\\Users\\tedmc\\anaconda3\\lib\\site-packages\\sklearn\\model_selection\\_validation.py\", line 674, in _score\n",
      "    scores = scorer(estimator, X_test, y_test)\n",
      "  File \"C:\\Users\\tedmc\\anaconda3\\lib\\site-packages\\sklearn\\metrics\\_scorer.py\", line 199, in __call__\n",
      "    return self._score(partial(_cached_call, None), estimator, X, y_true,\n",
      "  File \"C:\\Users\\tedmc\\anaconda3\\lib\\site-packages\\sklearn\\metrics\\_scorer.py\", line 242, in _score\n",
      "    return self._sign * self._score_func(y_true, y_pred,\n",
      "  File \"C:\\Users\\tedmc\\anaconda3\\lib\\site-packages\\sklearn\\utils\\validation.py\", line 63, in inner_f\n",
      "    return f(*args, **kwargs)\n",
      "  File \"C:\\Users\\tedmc\\anaconda3\\lib\\site-packages\\sklearn\\metrics\\_regression.py\", line 413, in mean_squared_log_error\n",
      "    raise ValueError(\"Mean Squared Logarithmic Error cannot be used when \"\n",
      "ValueError: Mean Squared Logarithmic Error cannot be used when targets contain negative values.\n",
      "\n",
      "  warnings.warn(\n",
      "C:\\Users\\tedmc\\anaconda3\\lib\\site-packages\\sklearn\\model_selection\\_validation.py:683: UserWarning: Scoring failed. The score on this train-test partition for these parameters will be set to nan. Details: \n",
      "Traceback (most recent call last):\n",
      "  File \"C:\\Users\\tedmc\\anaconda3\\lib\\site-packages\\sklearn\\model_selection\\_validation.py\", line 674, in _score\n",
      "    scores = scorer(estimator, X_test, y_test)\n",
      "  File \"C:\\Users\\tedmc\\anaconda3\\lib\\site-packages\\sklearn\\metrics\\_scorer.py\", line 199, in __call__\n",
      "    return self._score(partial(_cached_call, None), estimator, X, y_true,\n",
      "  File \"C:\\Users\\tedmc\\anaconda3\\lib\\site-packages\\sklearn\\metrics\\_scorer.py\", line 242, in _score\n",
      "    return self._sign * self._score_func(y_true, y_pred,\n",
      "  File \"C:\\Users\\tedmc\\anaconda3\\lib\\site-packages\\sklearn\\utils\\validation.py\", line 63, in inner_f\n",
      "    return f(*args, **kwargs)\n",
      "  File \"C:\\Users\\tedmc\\anaconda3\\lib\\site-packages\\sklearn\\metrics\\_regression.py\", line 413, in mean_squared_log_error\n",
      "    raise ValueError(\"Mean Squared Logarithmic Error cannot be used when \"\n",
      "ValueError: Mean Squared Logarithmic Error cannot be used when targets contain negative values.\n",
      "\n",
      "  warnings.warn(\n",
      "C:\\Users\\tedmc\\anaconda3\\lib\\site-packages\\sklearn\\model_selection\\_validation.py:683: UserWarning: Scoring failed. The score on this train-test partition for these parameters will be set to nan. Details: \n",
      "Traceback (most recent call last):\n",
      "  File \"C:\\Users\\tedmc\\anaconda3\\lib\\site-packages\\sklearn\\model_selection\\_validation.py\", line 674, in _score\n",
      "    scores = scorer(estimator, X_test, y_test)\n",
      "  File \"C:\\Users\\tedmc\\anaconda3\\lib\\site-packages\\sklearn\\metrics\\_scorer.py\", line 199, in __call__\n",
      "    return self._score(partial(_cached_call, None), estimator, X, y_true,\n",
      "  File \"C:\\Users\\tedmc\\anaconda3\\lib\\site-packages\\sklearn\\metrics\\_scorer.py\", line 242, in _score\n",
      "    return self._sign * self._score_func(y_true, y_pred,\n",
      "  File \"C:\\Users\\tedmc\\anaconda3\\lib\\site-packages\\sklearn\\utils\\validation.py\", line 63, in inner_f\n",
      "    return f(*args, **kwargs)\n",
      "  File \"C:\\Users\\tedmc\\anaconda3\\lib\\site-packages\\sklearn\\metrics\\_regression.py\", line 413, in mean_squared_log_error\n",
      "    raise ValueError(\"Mean Squared Logarithmic Error cannot be used when \"\n",
      "ValueError: Mean Squared Logarithmic Error cannot be used when targets contain negative values.\n",
      "\n",
      "  warnings.warn(\n",
      "C:\\Users\\tedmc\\anaconda3\\lib\\site-packages\\sklearn\\model_selection\\_validation.py:683: UserWarning: Scoring failed. The score on this train-test partition for these parameters will be set to nan. Details: \n",
      "Traceback (most recent call last):\n",
      "  File \"C:\\Users\\tedmc\\anaconda3\\lib\\site-packages\\sklearn\\model_selection\\_validation.py\", line 674, in _score\n",
      "    scores = scorer(estimator, X_test, y_test)\n",
      "  File \"C:\\Users\\tedmc\\anaconda3\\lib\\site-packages\\sklearn\\metrics\\_scorer.py\", line 199, in __call__\n",
      "    return self._score(partial(_cached_call, None), estimator, X, y_true,\n",
      "  File \"C:\\Users\\tedmc\\anaconda3\\lib\\site-packages\\sklearn\\metrics\\_scorer.py\", line 242, in _score\n",
      "    return self._sign * self._score_func(y_true, y_pred,\n",
      "  File \"C:\\Users\\tedmc\\anaconda3\\lib\\site-packages\\sklearn\\utils\\validation.py\", line 63, in inner_f\n",
      "    return f(*args, **kwargs)\n",
      "  File \"C:\\Users\\tedmc\\anaconda3\\lib\\site-packages\\sklearn\\metrics\\_regression.py\", line 413, in mean_squared_log_error\n",
      "    raise ValueError(\"Mean Squared Logarithmic Error cannot be used when \"\n",
      "ValueError: Mean Squared Logarithmic Error cannot be used when targets contain negative values.\n",
      "\n",
      "  warnings.warn(\n",
      "C:\\Users\\tedmc\\anaconda3\\lib\\site-packages\\sklearn\\model_selection\\_validation.py:683: UserWarning: Scoring failed. The score on this train-test partition for these parameters will be set to nan. Details: \n",
      "Traceback (most recent call last):\n",
      "  File \"C:\\Users\\tedmc\\anaconda3\\lib\\site-packages\\sklearn\\model_selection\\_validation.py\", line 674, in _score\n",
      "    scores = scorer(estimator, X_test, y_test)\n",
      "  File \"C:\\Users\\tedmc\\anaconda3\\lib\\site-packages\\sklearn\\metrics\\_scorer.py\", line 199, in __call__\n",
      "    return self._score(partial(_cached_call, None), estimator, X, y_true,\n",
      "  File \"C:\\Users\\tedmc\\anaconda3\\lib\\site-packages\\sklearn\\metrics\\_scorer.py\", line 242, in _score\n",
      "    return self._sign * self._score_func(y_true, y_pred,\n",
      "  File \"C:\\Users\\tedmc\\anaconda3\\lib\\site-packages\\sklearn\\utils\\validation.py\", line 63, in inner_f\n",
      "    return f(*args, **kwargs)\n",
      "  File \"C:\\Users\\tedmc\\anaconda3\\lib\\site-packages\\sklearn\\metrics\\_regression.py\", line 413, in mean_squared_log_error\n",
      "    raise ValueError(\"Mean Squared Logarithmic Error cannot be used when \"\n",
      "ValueError: Mean Squared Logarithmic Error cannot be used when targets contain negative values.\n",
      "\n",
      "  warnings.warn(\n",
      "C:\\Users\\tedmc\\anaconda3\\lib\\site-packages\\sklearn\\model_selection\\_search.py:918: UserWarning: One or more of the test scores are non-finite: [-0.02408182 -0.01919987 -0.01753846 -0.01924658 -0.01723929 -0.01694029\n",
      " -0.01810739 -0.0170458  -0.01688983 -0.02183428 -0.02201178 -0.02290469\n",
      " -0.02164871 -0.02188279 -0.02349822 -0.02306027 -0.02349937 -0.02298609\n",
      " -0.0318434  -0.03282071         nan         nan         nan         nan\n",
      "         nan         nan         nan]\n",
      "  warnings.warn(\n"
     ]
    },
    {
     "data": {
      "text/plain": [
       "{'learning_rate': 0.1, 'max_depth': 4, 'n_estimators': 250}"
      ]
     },
     "execution_count": 279,
     "metadata": {},
     "output_type": "execute_result"
    }
   ],
   "source": [
    "param_grid = {'n_estimators': [50, 100, 250], 'max_depth': [2, 3, 4], 'learning_rate': [0.1, 0.5, 1]}\n",
    "grid_search = GridSearchCV(gb_reg, param_grid, cv=5, scoring = 'neg_mean_squared_log_error') \n",
    "grid_search.fit(X_train,y_train)\n",
    "grid_search.best_params_"
   ]
  },
  {
   "cell_type": "code",
   "execution_count": 280,
   "id": "93f1100c",
   "metadata": {},
   "outputs": [
    {
     "data": {
      "text/plain": [
       "-0.016889834799290328"
      ]
     },
     "execution_count": 280,
     "metadata": {},
     "output_type": "execute_result"
    }
   ],
   "source": [
    "grid_search.best_score_"
   ]
  },
  {
   "cell_type": "code",
   "execution_count": 282,
   "id": "b43daa18",
   "metadata": {},
   "outputs": [
    {
     "data": {
      "text/plain": [
       "-0.015354840938225065"
      ]
     },
     "execution_count": 282,
     "metadata": {},
     "output_type": "execute_result"
    }
   ],
   "source": [
    "from sklearn.metrics import mean_squared_log_error\n",
    "\n",
    "gb_reg = GradientBoostingRegressor(max_depth=1, n_estimators=250, learning_rate=0.1)\n",
    "gb_reg.fit(X_train,y_train)\n",
    "y_train_pred = gb_reg.predict(X_train)\n",
    "score = -1*mean_squared_log_error(y, y_train_pred) \n",
    "score"
   ]
  },
  {
   "cell_type": "code",
   "execution_count": 283,
   "id": "6bd1f411",
   "metadata": {
    "scrolled": true
   },
   "outputs": [
    {
     "data": {
      "image/png": "[encoded data removed]",
      "text/plain": [
       "<Figure size 432x288 with 1 Axes>"
      ]
     },
     "metadata": {
      "needs_background": "light"
     },
     "output_type": "display_data"
    }
   ],
   "source": [
    "g = plot_learning_curve(gb_reg,\"Learning Curve\", X_train, y_train)\n",
    "plt.axis([0, 1460, 0, -.1])                       \n",
    "plt.show() "
   ]
  },
  {
   "cell_type": "markdown",
   "id": "156d100c",
   "metadata": {},
   "source": [
    "XGB Regressor"
   ]
  },
  {
   "cell_type": "code",
   "execution_count": 328,
   "id": "18979977",
   "metadata": {},
   "outputs": [
    {
     "data": {
      "text/plain": [
       "-0.018888587911440408"
      ]
     },
     "execution_count": 328,
     "metadata": {},
     "output_type": "execute_result"
    }
   ],
   "source": [
    "xgb_reg = XGBRegressor()\n",
    "score = cross_val_score(xgb_reg, X_train, y_train, cv=5, scoring='neg_mean_squared_log_error')\n",
    "score.mean()"
   ]
  },
  {
   "cell_type": "code",
   "execution_count": 329,
   "id": "83e615de",
   "metadata": {},
   "outputs": [
    {
     "data": {
      "text/plain": [
       "{'learning_rate': 0.1, 'max_depth': 5, 'n_estimators': 200}"
      ]
     },
     "execution_count": 329,
     "metadata": {},
     "output_type": "execute_result"
    }
   ],
   "source": [
    "param_grid = {'n_estimators': [200, 250, 300], 'max_depth': [3, 4, 5], 'learning_rate': [0.1, 0.5, 1]}\n",
    "grid_search = GridSearchCV(xgb_reg, param_grid, cv=5, scoring = 'neg_mean_squared_log_error') \n",
    "grid_search.fit(X_train,y_train)\n",
    "grid_search.best_params_"
   ]
  },
  {
   "cell_type": "code",
   "execution_count": 330,
   "id": "2d383d07",
   "metadata": {},
   "outputs": [
    {
     "data": {
      "text/plain": [
       "-0.01624508168444381"
      ]
     },
     "execution_count": 330,
     "metadata": {},
     "output_type": "execute_result"
    }
   ],
   "source": [
    "grid_search.best_score_"
   ]
  },
  {
   "cell_type": "code",
   "execution_count": null,
   "id": "1e75600a",
   "metadata": {},
   "outputs": [],
   "source": [
    "# Explore Randomized Search"
   ]
  },
  {
   "cell_type": "code",
   "execution_count": 331,
   "id": "689475ee",
   "metadata": {},
   "outputs": [
    {
     "data": {
      "text/plain": [
       "-0.01692778995743965"
      ]
     },
     "execution_count": 331,
     "metadata": {},
     "output_type": "execute_result"
    }
   ],
   "source": [
    "xgb_reg = XGBRegressor(max_depth=1, n_estimators=200, learning_rate=.1)\n",
    "xgb_reg.fit(X_train,y_train)\n",
    "y_train_pred = xgb_reg.predict(X_train)\n",
    "score = -1*mean_squared_log_error(y_train, y_train_pred) \n",
    "score"
   ]
  },
  {
   "cell_type": "code",
   "execution_count": 332,
   "id": "619f3613",
   "metadata": {},
   "outputs": [
    {
     "data": {
      "text/plain": [
       "0.13010684054821886"
      ]
     },
     "execution_count": 332,
     "metadata": {},
     "output_type": "execute_result"
    }
   ],
   "source": [
    "np.sqrt(-score)"
   ]
  },
  {
   "cell_type": "code",
   "execution_count": 333,
   "id": "4959410b",
   "metadata": {},
   "outputs": [
    {
     "data": {
      "image/png": "[encoded data removed]",
      "text/plain": [
       "<Figure size 432x288 with 1 Axes>"
      ]
     },
     "metadata": {
      "needs_background": "light"
     },
     "output_type": "display_data"
    }
   ],
   "source": [
    "g = plot_learning_curve(gb_reg,\"Learning Curve\", X_train, y_train)\n",
    "plt.axis([0, 1460, 0, -.1])                        \n",
    "plt.show() "
   ]
  },
  {
   "cell_type": "markdown",
   "id": "003135c8",
   "metadata": {},
   "source": [
    "Random Forest"
   ]
  },
  {
   "cell_type": "code",
   "execution_count": 290,
   "id": "5287ab1f",
   "metadata": {},
   "outputs": [
    {
     "data": {
      "text/plain": [
       "-0.020721763653281842"
      ]
     },
     "execution_count": 290,
     "metadata": {},
     "output_type": "execute_result"
    }
   ],
   "source": [
    "rf_reg = RandomForestRegressor()\n",
    "score = cross_val_score(rf_reg, X_train, y_train, cv=5, scoring = 'neg_mean_squared_log_error')\n",
    "score.mean()"
   ]
  },
  {
   "cell_type": "code",
   "execution_count": 310,
   "id": "018b74b5",
   "metadata": {
    "scrolled": true
   },
   "outputs": [
    {
     "data": {
      "text/plain": [
       "{'max_depth': 9, 'n_estimators': 600}"
      ]
     },
     "execution_count": 310,
     "metadata": {},
     "output_type": "execute_result"
    }
   ],
   "source": [
    "param_grid = {'n_estimators': [600, 700, 800], 'max_depth': [7, 8, 9]}\n",
    "grid_search = GridSearchCV(rf_reg, param_grid, cv=5, scoring = 'neg_mean_squared_log_error') \n",
    "grid_search.fit(X_train,y_train)\n",
    "grid_search.best_params_"
   ]
  },
  {
   "cell_type": "code",
   "execution_count": 311,
   "id": "d73f1604",
   "metadata": {},
   "outputs": [
    {
     "data": {
      "text/plain": [
       "-0.02113253448058331"
      ]
     },
     "execution_count": 311,
     "metadata": {},
     "output_type": "execute_result"
    }
   ],
   "source": [
    "grid_search.best_score_"
   ]
  },
  {
   "cell_type": "code",
   "execution_count": 317,
   "id": "503add60",
   "metadata": {
    "scrolled": true
   },
   "outputs": [
    {
     "data": {
      "text/plain": [
       "-0.02054774939427204"
      ]
     },
     "execution_count": 317,
     "metadata": {},
     "output_type": "execute_result"
    }
   ],
   "source": [
    "rf_reg = RandomForestRegressor(n_estimators=500, max_depth=5)\n",
    "rf_reg.fit(X_train,y_train)\n",
    "y_train_pred = rf_reg.predict(X_train)\n",
    "score = -1*mean_squared_log_error(y_train, y_train_pred) \n",
    "score"
   ]
  },
  {
   "cell_type": "code",
   "execution_count": 318,
   "id": "a2db8dfc",
   "metadata": {
    "scrolled": false
   },
   "outputs": [
    {
     "data": {
      "image/png": "[encoded data removed]",
      "text/plain": [
       "<Figure size 432x288 with 1 Axes>"
      ]
     },
     "metadata": {
      "needs_background": "light"
     },
     "output_type": "display_data"
    }
   ],
   "source": [
    "g = plot_learning_curve(rf_reg,\"Learning Curve\", X_train, y_train)\n",
    "plt.axis([0, 1460, 0, -.1])                        \n",
    "plt.show() "
   ]
  },
  {
   "cell_type": "markdown",
   "id": "bef22aba",
   "metadata": {},
   "source": [
    "Ensemble"
   ]
  },
  {
   "cell_type": "code",
   "execution_count": 321,
   "id": "5bac16fe",
   "metadata": {},
   "outputs": [
    {
     "data": {
      "text/plain": [
       "VotingRegressor(estimators=[('gb',\n",
       "                             GradientBoostingRegressor(max_depth=1,\n",
       "                                                       n_estimators=250)),\n",
       "                            ('rf',\n",
       "                             RandomForestRegressor(max_depth=5,\n",
       "                                                   n_estimators=500))])"
      ]
     },
     "execution_count": 321,
     "metadata": {},
     "output_type": "execute_result"
    }
   ],
   "source": [
    "from sklearn.ensemble import VotingRegressor\n",
    "\n",
    "voting_reg = VotingRegressor(\n",
    "    estimators=[('gb', gb_reg), ('rf', rf_reg)])\n",
    "\n",
    "voting_reg.fit(X_train, y_train)"
   ]
  },
  {
   "cell_type": "code",
   "execution_count": 323,
   "id": "721ad833",
   "metadata": {},
   "outputs": [
    {
     "data": {
      "text/plain": [
       "-0.01643298220992126"
      ]
     },
     "execution_count": 323,
     "metadata": {},
     "output_type": "execute_result"
    }
   ],
   "source": [
    "y_train_pred = voting_reg.predict(X_train)\n",
    "voting_reg.fit(X_train, y_train)\n",
    "score = -1*mean_squared_log_error(y, y_train_pred) \n",
    "score"
   ]
  },
  {
   "cell_type": "markdown",
   "id": "c64cf327",
   "metadata": {},
   "source": [
    "## Test Set Evaluation"
   ]
  },
  {
   "cell_type": "markdown",
   "id": "3a6d56c2",
   "metadata": {},
   "source": [
    "Complete datasets"
   ]
  },
  {
   "cell_type": "code",
   "execution_count": null,
   "id": "8d3fadd8",
   "metadata": {},
   "outputs": [],
   "source": [
    "test_data_array = np.c_[X_test, y_test]"
   ]
  },
  {
   "cell_type": "code",
   "execution_count": null,
   "id": "5858b8af",
   "metadata": {},
   "outputs": [],
   "source": [
    "test_data = pd.DataFrame(trest_data_array, columns=data.columns)"
   ]
  },
  {
   "cell_type": "code",
   "execution_count": null,
   "id": "d26e092e",
   "metadata": {},
   "outputs": [],
   "source": [
    "# Apply any data trasformations to test_data not included in full pipeline.\n",
    "df_test = prepare(test_data)\n",
    "X_test = df_test.drop('target', axis=1)\n",
    "y_test = df_test['target']\n",
    "X_test = full_pipeline.transform(X_test)"
   ]
  },
  {
   "cell_type": "code",
   "execution_count": null,
   "id": "b707a4f2",
   "metadata": {},
   "outputs": [],
   "source": [
    "y_test_pred = voting_clf.predict(X_test)\n",
    "accuracy_score(y_test, y_test_pred)"
   ]
  },
  {
   "cell_type": "markdown",
   "id": "cfa7db67",
   "metadata": {},
   "source": [
    "### Kaggle Submission (If Required)"
   ]
  },
  {
   "cell_type": "code",
   "execution_count": null,
   "id": "5c785f4c",
   "metadata": {},
   "outputs": [],
   "source": [
    "ids = test_data['Id']\n",
    "# Required transformations of test_data\n",
    "X_test = prepare(test_data, flex=False)\n",
    "X_test = full_pipeline.transform(X_test)\n",
    "predictions = voting_reg.predict(X_test)\n",
    "output = pd.DataFrame({'Id': ids, 'target': predictions}) \n",
    "output.to_csv('my_submission.csv', index=False)\n",
    "print(\"Your submission was successfully saved!\")"
   ]
  }
 ],
 "metadata": {
  "kernelspec": {
   "display_name": "Python 3",
   "language": "python",
   "name": "python3"
  },
  "language_info": {
   "codemirror_mode": {
    "name": "ipython",
    "version": 3
   },
   "file_extension": ".py",
   "mimetype": "text/x-python",
   "name": "python",
   "nbconvert_exporter": "python",
   "pygments_lexer": "ipython3",
   "version": "3.8.8"
  }
 },
 "nbformat": 4,
 "nbformat_minor": 5
}
